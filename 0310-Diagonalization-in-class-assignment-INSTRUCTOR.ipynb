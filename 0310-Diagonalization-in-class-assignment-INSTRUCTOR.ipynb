{
 "cells": [
  {
   "cell_type": "code",
   "execution_count": null,
   "metadata": {},
   "outputs": [],
   "source": [
    "# %load ./test/test_floatcheck.py"
   ]
  },
  {
   "cell_type": "code",
   "execution_count": null,
   "metadata": {},
   "outputs": [],
   "source": [
    "# %load ./test/test_vectorcheck.py"
   ]
  },
  {
   "cell_type": "code",
   "execution_count": null,
   "metadata": {},
   "outputs": [],
   "source": [
    "# %load ./test/test_matrixcheck.py"
   ]
  },
  {
   "cell_type": "markdown",
   "metadata": {},
   "source": [
    "In order to successfully complete this assignment you need to participate both individually and in groups during class on **###DUE_DATE###**."
   ]
  },
  {
   "cell_type": "markdown",
   "metadata": {},
   "source": [
    "\n",
    "# In-Class Assignment: Diagonalization\n",
    "\n",
    "<img src=\"https://wikimedia.org/api/rest_v1/media/math/render/svg/62ab0ef52ecb1e1452efe6acf096923035c75f62\" width=\"50%\">\n",
    "\n",
    "Image from: [https://en.wikipedia.org/wiki/Diagonalizable_matrix](https://en.wikipedia.org/wiki/Diagonalizable_matrix)\n",
    "\n",
    "    "
   ]
  },
  {
   "cell_type": "markdown",
   "metadata": {},
   "source": [
    "### Agenda for today's class (80 minutes)\n",
    "\n",
    "</p>\n",
    "\n",
    "###TOC###\n",
    "\n",
    "1. [(20 minutes) Homework 3 Review](#Homework_3_Review)\n",
    "1. [(20 minutes) Pre-class Assignment Review](#Pre-class_Assignment_Review)\n",
    "1. [(20 minutes) Diagonalization](#Diagonalization)\n",
    "1. [(20 minutes) The Power of a Matrix](#The_Power_of_a_Matrix)\n"
   ]
  },
  {
   "cell_type": "code",
   "execution_count": null,
   "metadata": {},
   "outputs": [],
   "source": [
    "%matplotlib inline\n",
    "import matplotlib.pylab as plt\n",
    "import numpy as np\n",
    "import sympy as sym\n",
    "sym.init_printing()"
   ]
  },
  {
   "cell_type": "markdown",
   "metadata": {},
   "source": [
    "----\n",
    "\n",
    "# 0. Testing new instructional software\n",
    "\n",
    "Today in class we will be testing out some new instructional software. We hope to use this software as we increase the number of students in the class from 1 section of 50 this semester to 4 sections of 50 (200 students!!) in the fall. The software has two goals:\n",
    "\n",
    "1. Provide immediate feedback to students as they are learning new skills. We hope this immediate feedback will help students gain confidence in their understanding and provide support for self learning. \n",
    "2. Reduce the amount of time and effort for instructors to grade assignments so that they can spend more time working with students. \n",
    "\n",
    "This assignment uses the new software.  We ask that you give it a try and give us feedback we can use to improve the student experience.  There are additional instructions at the end of the assignment to turn it in.  \n",
    "\n",
    "The visiting instructors conducting this experiment have no impact on your grade and anything you tell them will not impact your grade. "
   ]
  },
  {
   "cell_type": "code",
   "execution_count": null,
   "metadata": {},
   "outputs": [],
   "source": [
    "from urllib.request import urlretrieve\n",
    "urlretrieve(\"https://raw.githubusercontent.com/colbrydi/jupytercheck/master/answercheck.py\", \"answercheck_old.py\");"
   ]
  },
  {
   "cell_type": "code",
   "execution_count": null,
   "metadata": {},
   "outputs": [],
   "source": [
    "from answercheck import checkanswer\n",
    "checkanswer.detailedwarnings = False"
   ]
  },
  {
   "cell_type": "markdown",
   "metadata": {},
   "source": [
    "Here is an example demonstrating how ```checkanswer``` works. The \"magic string\" in the function (2e55d74f5c78981f6b877b198bdc61ba) should not be changed. This is the \"hash\" function that secretly encodes the answer."
   ]
  },
  {
   "cell_type": "code",
   "execution_count": null,
   "metadata": {},
   "outputs": [],
   "source": [
    "f = 0.0111\n",
    "checkanswer.float(f, '2e55d74f5c78981f6b877b198bdc61ba');"
   ]
  },
  {
   "cell_type": "markdown",
   "metadata": {},
   "source": [
    "Notice if you give it the wrong answer it gives you an error"
   ]
  },
  {
   "cell_type": "code",
   "execution_count": null,
   "metadata": {},
   "outputs": [],
   "source": [
    "f = 4\n",
    "checkanswer.float(f, '2e55d74f5c78981f6b877b198bdc61ba');"
   ]
  },
  {
   "cell_type": "markdown",
   "metadata": {},
   "source": [
    "We are trying to make the ```checkanswer``` functions smart and handle correct answers that are in different formats. For example the following is equivalent within a reasonable roundoff and therefore true. "
   ]
  },
  {
   "cell_type": "code",
   "execution_count": null,
   "metadata": {},
   "outputs": [],
   "source": [
    "f = 0\n",
    "checkanswer.float(f, '30565a8911a6bb487e3745c0ea3c8224');"
   ]
  },
  {
   "cell_type": "code",
   "execution_count": null,
   "metadata": {},
   "outputs": [],
   "source": [
    "f = -0\n",
    "checkanswer.float(f, '30565a8911a6bb487e3745c0ea3c8224');"
   ]
  },
  {
   "cell_type": "code",
   "execution_count": null,
   "metadata": {},
   "outputs": [],
   "source": [
    "f = 1\n",
    "checkanswer.float(f, 'e4c2e8edac362acab7123654b9e73432');"
   ]
  },
  {
   "cell_type": "code",
   "execution_count": null,
   "metadata": {},
   "outputs": [],
   "source": [
    "f = 0.011100001\n",
    "checkanswer.float(f, '2e55d74f5c78981f6b877b198bdc61ba');"
   ]
  },
  {
   "cell_type": "markdown",
   "metadata": {},
   "source": [
    "---\n",
    "<a name=\"Homework_3_Review\"></a>\n",
    "# 1. Homework 3 Review\n",
    "\n",
    "* [0228-HW3-Networks_Spectra_and_Jurassic_Park.ipynb](0228-HW3-Networks_Spectra_and_Jurassic_Park.ipynb)"
   ]
  },
  {
   "cell_type": "markdown",
   "metadata": {},
   "source": [
    "---\n",
    "<a name=\"Pre-class_Assignment_Review\"></a>\n",
    "# 2. Pre-class Assignment Review"
   ]
  },
  {
   "cell_type": "markdown",
   "metadata": {},
   "source": [
    "* [0309--Diagonalization-pre-class-assignment.ipynb](0309--Diagonalization-pre-class-assignment.ipynb)"
   ]
  },
  {
   "cell_type": "markdown",
   "metadata": {},
   "source": [
    "----\n",
    "<a name=\"Diagonalization\"></a>\n",
    "# 3. Diagonalization"
   ]
  },
  {
   "cell_type": "markdown",
   "metadata": {},
   "source": [
    "## The eigenvalues of triangular (upper and lower) and diagonal matrices\n",
    "\n",
    "* The eigenvalues for triangular matrices are the diagonal elements.\n",
    "* The eigenvalues for the digonal matrices are the diagonal elements. "
   ]
  },
  {
   "cell_type": "markdown",
   "metadata": {},
   "source": [
    "## Diagonalization\n",
    "\n",
    "\n",
    "**Definition**: A square matrix $A$ is said to be *diagonalizable* if there exist a matrix $C$ such that $D=C^{-1}AC$ is a diagonal matrix.\n",
    "\n",
    "**Definition**: $B$ is a *similar matrix* of $A$ if we can find $C$ such that $B=C^{-1}AC$.\n",
    "\n",
    "\n",
    "Given an $n\\times n$ matrix $A$, can we find another $n \\times n$ invertable matrix $C$ such that when $D=C^{-1}AC$ is diagonal, i.e., $A$ is diagonalizable?"
   ]
  },
  {
   "cell_type": "markdown",
   "metadata": {},
   "source": [
    "* Because $C$ is inveritble, we have \n",
    "$$C^{-1}AC=D \\\\ CC^{-1}AC = CD\\\\ AC = CD $$\n",
    "\n",
    "\n",
    "* Generate $C$ as the columns of $n$ linearly independent vectors $(x_1...x_n)$ We can compute $AC=CD$ as follows:\n",
    "$$ A\\begin{bmatrix} \\vdots  & \\vdots  & \\vdots  & \\vdots  \\\\ \\vdots  & \\vdots  & \\vdots  & \\vdots  \\\\ { x }_{ 1 } & { x }_{ 2 } & \\dots  & { x }_{ n } \\\\ \\vdots  & \\vdots  & \\vdots  & \\vdots  \\end{bmatrix}=AC=CD=\\begin{bmatrix} \\vdots  & \\vdots  & \\vdots  & \\vdots  \\\\ \\vdots  & \\vdots  & \\vdots  & \\vdots  \\\\ { x }_{ 1 } & { x }_{ 2 } & \\dots  & { x }_{ n } \\\\ \\vdots  & \\vdots  & \\vdots  & \\vdots  \\end{bmatrix}\\begin{bmatrix} { \\lambda  }_{ 1 } & 0 & 0 & 0 \\\\ 0 & { \\lambda  }_{ 2 } & 0 & 0 \\\\ \\vdots  & \\vdots  & { \\dots  } & \\vdots  \\\\ 0 & 0 & 0 & { \\lambda  }_{ n } \\end{bmatrix}$$\n",
    "* Then we check the corresponding columns of the both sides. We have \n",
    "$$Ax_1 = \\lambda_1x_1\\\\\\vdots\\\\Ax_n=\\lambda x_n$$\n",
    "\n",
    "* $A$ has $n$ linear independent eigenvectors.\n",
    "\n",
    "* $A$ is saied to be *similar* to the diagonal matrix $D$, and the transformation of $A$ into $D$ is called a *similarity transformation*."
   ]
  },
  {
   "cell_type": "markdown",
   "metadata": {},
   "source": [
    "### A simple example\n",
    "\n",
    "Consider the following:\n",
    "$$ A = \\begin{bmatrix}7& -10\\\\3& -4\\end{bmatrix},\\quad C = \\begin{bmatrix}2& 5\\\\1& 3\\end{bmatrix}$$"
   ]
  },
  {
   "cell_type": "markdown",
   "metadata": {},
   "source": [
    "&#9989;  **<font color=red>Do this:</font>** Find the similar matrix $D = C^{-1}AC$ of $A$."
   ]
  },
  {
   "cell_type": "code",
   "execution_count": null,
   "metadata": {},
   "outputs": [],
   "source": [
    "#Put your answer to the above question here."
   ]
  },
  {
   "cell_type": "code",
   "execution_count": null,
   "metadata": {},
   "outputs": [],
   "source": [
    "##ANSWER##\n",
    "A = np.matrix([[7, -10],[3,-4]])\n",
    "vals, vects = np.linalg.eig(A)\n",
    "C = vects\n",
    "D = C**-1*A*C\n",
    "##ANSWER##"
   ]
  },
  {
   "cell_type": "code",
   "execution_count": null,
   "metadata": {
    "nbgrader": {
     "grade": true,
     "grade_id": "cell-3cdb9915439d45fe",
     "locked": true,
     "points": 5,
     "schema_version": 3,
     "solution": false,
     "task": false
    }
   },
   "outputs": [],
   "source": [
    "checkanswer.matrix(D, '8313fe0f529090d6a8cdb36248cfdd6c');"
   ]
  },
  {
   "cell_type": "markdown",
   "metadata": {},
   "source": [
    "&#9989;  **<font color=red>Do this:</font>** Find the eigenvalues and eigenvectors of $A$. Set variables ```e1``` and ```vec1``` to be the smallest eigenvalue and it's associated eigenvector and ```e2, vec2``` to represent the  largest."
   ]
  },
  {
   "cell_type": "code",
   "execution_count": null,
   "metadata": {},
   "outputs": [],
   "source": [
    "#Put your answer to the above question here."
   ]
  },
  {
   "cell_type": "code",
   "execution_count": null,
   "metadata": {
    "scrolled": false
   },
   "outputs": [],
   "source": [
    "# ##ANSWER##\n",
    "# ##Testing using sympy\n",
    "# eig = A.eigenvals(multiple=True)\n",
    "# vec = A.eigenvects(multiple=False)\n",
    "\n",
    "\n",
    "# e1 = vec[0][0]\n",
    "# e2 = vec[1][0]\n",
    "\n",
    "# vec1 = vec[0][2]\n",
    "# vec2 = vec[1][2]\n",
    "\n",
    "# vec1_1 = vec1\n",
    "# vec2_2= vec2\n",
    "# ##ANSWER##"
   ]
  },
  {
   "cell_type": "code",
   "execution_count": null,
   "metadata": {},
   "outputs": [],
   "source": [
    "vals"
   ]
  },
  {
   "cell_type": "code",
   "execution_count": null,
   "metadata": {},
   "outputs": [],
   "source": [
    "e1 = vals[1]\n",
    "e2 = vals[0]"
   ]
  },
  {
   "cell_type": "code",
   "execution_count": null,
   "metadata": {
    "nbgrader": {
     "grade": true,
     "grade_id": "cell-f4fda102502f50f9",
     "locked": true,
     "points": 5,
     "schema_version": 3,
     "solution": false,
     "task": false
    }
   },
   "outputs": [],
   "source": [
    "checkanswer.float(e1, \"e4c2e8edac362acab7123654b9e73432\");"
   ]
  },
  {
   "cell_type": "code",
   "execution_count": null,
   "metadata": {
    "nbgrader": {
     "grade": true,
     "grade_id": "cell-88300f29b8aec498",
     "locked": true,
     "points": 5,
     "schema_version": 3,
     "solution": false,
     "task": false
    }
   },
   "outputs": [],
   "source": [
    "checkanswer.float(e2, \"d1bd83a33f1a841ab7fda32449746cc4\");"
   ]
  },
  {
   "cell_type": "code",
   "execution_count": null,
   "metadata": {},
   "outputs": [],
   "source": [
    "vec1 = vects[:,1]\n",
    "vec2 = vects[:,0]"
   ]
  },
  {
   "cell_type": "code",
   "execution_count": null,
   "metadata": {
    "nbgrader": {
     "grade": true,
     "grade_id": "cell-f26e2f5a3e41bdd8",
     "locked": true,
     "points": 5,
     "schema_version": 3,
     "solution": false,
     "task": false
    },
    "scrolled": true
   },
   "outputs": [],
   "source": [
    "checkanswer.vector(vec1, \"9811eb81debc5939e28ad8c2455169c5\")"
   ]
  },
  {
   "cell_type": "code",
   "execution_count": null,
   "metadata": {
    "nbgrader": {
     "grade": true,
     "grade_id": "cell-a0ef501c592a3fcc",
     "locked": true,
     "points": 5,
     "schema_version": 3,
     "solution": false,
     "task": false
    }
   },
   "outputs": [],
   "source": [
    "checkanswer.vector(vec2, \"d76afb3b2331d589fe5a4172d98808be\")"
   ]
  },
  {
   "cell_type": "code",
   "execution_count": null,
   "metadata": {},
   "outputs": [],
   "source": [
    "##ANSWER##\n",
    "#Same solution using numpy\n",
    "A = np.matrix([[7.0, -10],[3,-4]])\n",
    "C = np.matrix([[2.0, 5],[1,3]])\n",
    "D = C**-1*A*C\n",
    "sym.Matrix(D)\n",
    "\n",
    "vals,vecs = np.linalg.eig(np.matrix(A))\n",
    "\n",
    "e2 = vals[0]\n",
    "e1 = vals[1]\n",
    "\n",
    "vec2 = vecs[:,0]\n",
    "vec1 = vecs[:,1]\n",
    "##ANSWER##"
   ]
  },
  {
   "cell_type": "code",
   "execution_count": null,
   "metadata": {},
   "outputs": [],
   "source": [
    "import numpy as np\n",
    "A = np.matrix([[1.0, 0.0], [0.0, 2.0]])\n",
    "checkanswer.matrix(A, '943d90b283d21136da008160e002a5ce');"
   ]
  },
  {
   "cell_type": "code",
   "execution_count": null,
   "metadata": {},
   "outputs": [],
   "source": [
    "##ANSWER##\n",
    "checkanswer.float(e1, \"e4c2e8edac362acab7123654b9e73432\");\n",
    "##ANSWER##"
   ]
  },
  {
   "cell_type": "code",
   "execution_count": null,
   "metadata": {
    "scrolled": true
   },
   "outputs": [],
   "source": [
    "##ANSWER##\n",
    "checkanswer.float(e2, \"d1bd83a33f1a841ab7fda32449746cc4\");\n",
    "##ANSWER##"
   ]
  },
  {
   "cell_type": "code",
   "execution_count": null,
   "metadata": {},
   "outputs": [],
   "source": [
    "A = [1.0, 0.0, 2.0]\n",
    "checkanswer.vector(A, '4c50a36b5ea58ab121d70de1b47134a5');\n",
    "    "
   ]
  },
  {
   "cell_type": "code",
   "execution_count": null,
   "metadata": {},
   "outputs": [],
   "source": [
    "A = np.matrix([[1.0, 0.0, 2.44]])\n",
    "checkanswer.vector(A, 'adc7e01b8bd1778081f6ee348b5eac8c');"
   ]
  },
  {
   "cell_type": "code",
   "execution_count": null,
   "metadata": {
    "scrolled": true
   },
   "outputs": [],
   "source": [
    "##ANSWER##\n",
    "checkanswer.vector(vec1, \"9811eb81debc5939e28ad8c2455169c5\")\n",
    "##ANSWER##"
   ]
  },
  {
   "cell_type": "code",
   "execution_count": null,
   "metadata": {},
   "outputs": [],
   "source": [
    "##ANSWER##\n",
    "checkanswer.vector(vec2, \"d76afb3b2331d589fe5a4172d98808be\")\n",
    "##ANSWER##"
   ]
  },
  {
   "cell_type": "markdown",
   "metadata": {},
   "source": [
    "**Theorem:** Similar matrices have the same eigenvalues.\n",
    "\n",
    "**Proof:** Assume $B=C^{-1}AC$ is a similar matrix of $A$, and $\\lambda$ is an eigenvalue of $A$ with corresponding eigenvector $x$. That is, $$Ax=\\lambda x$$ \n",
    "Then we have $$B(C^{-1}x) = C^{-1}AC(C^{-1}x) = C^{-1}Ax = C^{-1}(\\lambda x)= \\lambda (C^{-1}x).$$\n",
    "That is $C^{-1}x$ is an eigenvector of $B$ with eigenvalue $\\lambda$.     "
   ]
  },
  {
   "cell_type": "markdown",
   "metadata": {},
   "source": [
    "### A second example\n",
    "\n",
    "&#9989;  **<font color=red>Do this:</font>** Consider \n",
    "$$ A = \\begin{bmatrix}-4& -6\\\\3& 5\\end{bmatrix}.$$\n",
    "Find a matrix $C$ such that $C^{-1}AC$ is diagonal. (Hint, use the function `diagonalize` in `sympy`.)"
   ]
  },
  {
   "cell_type": "code",
   "execution_count": null,
   "metadata": {},
   "outputs": [],
   "source": [
    "#Put your answer to the above question here. "
   ]
  },
  {
   "cell_type": "code",
   "execution_count": null,
   "metadata": {
    "scrolled": false
   },
   "outputs": [],
   "source": [
    "##ANSWER##\n",
    "A = sym.Matrix([[-4,-6],[3,5]])\n",
    "C, D = A.diagonalize()\n",
    "print(C)\n",
    "print(D)\n",
    "##ANSWER##"
   ]
  },
  {
   "cell_type": "code",
   "execution_count": null,
   "metadata": {
    "nbgrader": {
     "grade": true,
     "grade_id": "cell-d9c7ff4aa895199e",
     "locked": true,
     "points": 5,
     "schema_version": 3,
     "solution": false,
     "task": false
    }
   },
   "outputs": [],
   "source": [
    "#Check the output type\n",
    "assert(type(C)==sym.Matrix)"
   ]
  },
  {
   "cell_type": "code",
   "execution_count": null,
   "metadata": {
    "nbgrader": {
     "grade": true,
     "grade_id": "cell-2c06b41f80b7a258",
     "locked": true,
     "points": 5,
     "schema_version": 3,
     "solution": false,
     "task": false
    }
   },
   "outputs": [],
   "source": [
    "checkanswer.matrix(C,'ba963b7fef354b4a7ddd880ca4bac071')"
   ]
  },
  {
   "cell_type": "code",
   "execution_count": null,
   "metadata": {
    "scrolled": false
   },
   "outputs": [],
   "source": [
    "##ANSWER##\n",
    "A = sym.Matrix([[-4,-6],[3,5]])\n",
    "A.eigenvals()\n",
    "A.eigenvects()\n",
    "C = A.eigenvects()[0][2][0]\n",
    "C = C.col_insert(1, A.eigenvects()[1][2][0])\n",
    "C = sym.Matrix(C)\n",
    "C.inv()*A*C\n",
    "print(C)\n",
    "##ANSWER##"
   ]
  },
  {
   "cell_type": "code",
   "execution_count": null,
   "metadata": {
    "nbgrader": {
     "grade": true,
     "grade_id": "cell-6a1b21e5f63f4497",
     "locked": true,
     "points": 5,
     "schema_version": 3,
     "solution": false,
     "task": false
    }
   },
   "outputs": [],
   "source": [
    "##ANSWER##\n",
    "checkanswer.matrix(C,'ba963b7fef354b4a7ddd880ca4bac071')\n",
    "##ANSWER##"
   ]
  },
  {
   "cell_type": "markdown",
   "metadata": {},
   "source": [
    "### The third example\n",
    "\n",
    "&#9989;  **<font color=red>Do this:</font>** Consider \n",
    "$$ A = \\begin{bmatrix}5& -3\\\\3& -1\\end{bmatrix}.$$\n",
    "Can we find a matrix $C$ such that $C^{-1}AC$ is diagonal?  (Hint: find eigenvalues and eigenvectors using `sympy`)"
   ]
  },
  {
   "cell_type": "code",
   "execution_count": null,
   "metadata": {
    "nbgrader": {
     "grade": true,
     "grade_id": "cell-8eb9fd1f4a5a6136",
     "locked": false,
     "points": 0,
     "schema_version": 3,
     "solution": true,
     "task": false
    }
   },
   "outputs": [],
   "source": [
    "#Put your answer to the above question here. "
   ]
  },
  {
   "cell_type": "code",
   "execution_count": null,
   "metadata": {
    "scrolled": false
   },
   "outputs": [],
   "source": [
    "##ANSWER##\n",
    "A = sym.Matrix([[5,-3],[3,-1]])\n",
    "C, D = A.diagonalize()\n",
    "print(C)\n",
    "print(D)\n",
    "\n",
    "## Matrix is not diagonalizable\n",
    "##ANSWER##"
   ]
  },
  {
   "cell_type": "markdown",
   "metadata": {},
   "source": [
    "## Dimensions of eigenspaces and diagonalization\n",
    "\n",
    "**Definition**: The set of all eigenvectors of a $n\\times n$ matrix corresponding to a eigenvalue $\\lambda$, together with the zero vector, is a subspace of $R^n$. This subspace spaces is called *eigenspace*.\n",
    "\n",
    "* For the third example, we have that the characteristic equation $(\\lambda-2)^2=0$.\n",
    "* Eigenvalue $\\lambda=2$ has multiplicity 2, but the eigenspace has dimension 1, since we can not find two lineare independent eigenvector for $\\lambda =2$. \n",
    "\n",
    "> The dimension of an eigenspace of a matrix is less than or equal to the multiplicity of the corresponding eigenvalue as a root of the characteristic equation.\n",
    "\n",
    "> A matrix is diagonalizable if and only if the dimension of every eigenspace is equal to the multiplicity of the corresponding eigenvalue as a root of the characteristic equation."
   ]
  },
  {
   "cell_type": "markdown",
   "metadata": {},
   "source": [
    "### The fourth example\n",
    "\n",
    "&#9989;  **<font color=red>Do this:</font>** Consider \n",
    "$$ A = \\begin{bmatrix}2& -1\\\\1& 2\\end{bmatrix}.$$\n",
    "Can we find a matrix $C$ such that $C^{-1}AC$ is diagonal?"
   ]
  },
  {
   "cell_type": "code",
   "execution_count": null,
   "metadata": {
    "nbgrader": {
     "grade": true,
     "grade_id": "cell-3bc59d8f51537cae",
     "locked": false,
     "points": 0,
     "schema_version": 3,
     "solution": true,
     "task": false
    }
   },
   "outputs": [],
   "source": [
    "#Put your answer to the above question here. "
   ]
  },
  {
   "cell_type": "code",
   "execution_count": null,
   "metadata": {
    "scrolled": false
   },
   "outputs": [],
   "source": [
    "##ANSWER##\n",
    "A = sym.Matrix([[2,-1],[1,2]])\n",
    "C, D = A.diagonalize()\n",
    "\n",
    "print(C)\n",
    "print(D)\n",
    "##ANSWER##"
   ]
  },
  {
   "cell_type": "markdown",
   "metadata": {},
   "source": [
    "---\n",
    "\n",
    "<a name=\"The_Power_of_a_Matrix\"></a>\n",
    "# 4. The Power of a Matrix\n",
    "\n",
    "* For a diagonalizable matrix $A$, we have $C^{-1}AC=D$. Then we have \n",
    "$$A = C D C^{-1}$$\n",
    "* We have \n",
    "$$A^2 = C D C^{-1} C D C^{-1} = C D^2 C^{-1}$$\n",
    "$$A^n = C D C^{-1} \\dots C D C^{-1} = C D^n C^{-1}$$\n",
    "* Because the columns of $C$ are eigenvectors, so we can say that the eigenvectors for $A$ and $A^n$ are the same if $A$ is diagonalizable. \n",
    "* If $x$ is an eigenvector of $A$ with the corresponding eigenvalue $\\lambda$, then $x$ is also an eigenvector of $A^n$ with the corresponding eigenvalue $\\lambda^n$."
   ]
  },
  {
   "cell_type": "code",
   "execution_count": null,
   "metadata": {},
   "outputs": [],
   "source": [
    "# Here are some libraries you may need to use\n",
    "%matplotlib inline\n",
    "import numpy as np\n",
    "import sympy as sym\n",
    "import networkx as nx\n",
    "import matplotlib.pyplot as plt\n",
    "sym.init_printing(use_unicode=True)"
   ]
  },
  {
   "cell_type": "markdown",
   "metadata": {},
   "source": [
    "### Graph Random Walk\n",
    "\n",
    "* Define the following matrices:\n",
    "    * $I$ is the identity matrix\n",
    "    * $A$ is the adjacency matrix\n",
    "    * $D$ is diagonal matrix of degrees (number of edges connected to each node)\n",
    "    \n",
    "$$W=\\frac{1}{2}(I + AD^{-1})$$\n",
    "\n",
    "* The **lazy random walk matrix**, $W$, takes a distribution vector of *stuff*, $p_{t}$, and diffuses it to its neighbors:\n",
    "\n",
    "$$p_{t+1}=Wp_{t}$$\n",
    "\n",
    "* For some initial distribution of *stuff*, $p_{0}$, we can compute how much of it would be at each node at time, $t$, by powering $W$ as follows:\n",
    "\n",
    "$$p_{t}=W^{t}p_{0}$$\n",
    "\n",
    "* Plugging in the above expression yields:\n",
    "\n",
    "$$p_{t}=\\frac{1}{2}(I + AD^{-1})^{t}p_{0}$$"
   ]
  },
  {
   "cell_type": "markdown",
   "metadata": {},
   "source": [
    "<font color=red>**DO THIS**</font>: Using matrix algebra, show that $\\frac{1}{2}(I + AD^{-1})$ is **similar** to  $I-\\frac{1}{2}N$, where $N=D^{-\\frac{1}{2}}(D-A)D^{-\\frac{1}{2}}$ is the normalized graph Laplacian. "
   ]
  },
  {
   "cell_type": "markdown",
   "metadata": {
    "nbgrader": {
     "grade": true,
     "grade_id": "cell-1a93e034adef3eb1",
     "locked": false,
     "points": 0,
     "schema_version": 3,
     "solution": true,
     "task": false
    }
   },
   "source": [
    "**Your answer goes here** (follow along after attempting)"
   ]
  },
  {
   "cell_type": "markdown",
   "metadata": {},
   "source": [
    "### Random Walk on Barbell Graph\n",
    "\n",
    "To generate the barbell graph, run the following cell."
   ]
  },
  {
   "cell_type": "code",
   "execution_count": null,
   "metadata": {},
   "outputs": [],
   "source": [
    "n = 60 # number of nodes\n",
    "B = nx.Graph() # initialize graph\n",
    "\n",
    "## initialize empty edge lists\n",
    "edge_list_complete_1 = [] \n",
    "edge_list_complete_2 = []\n",
    "edge_list_path = []\n",
    "\n",
    "## generate node lists\n",
    "node_list_complete_1 = np.arange(int(n/3))\n",
    "node_list_complete_2 = np.arange(int(2*n/3),n)\n",
    "node_list_path = np.arange(int(n/3)-1,int(2*n/3))\n",
    "\n",
    "## generate edge sets for barbell graph\n",
    "for u in node_list_complete_1:\n",
    "    for v in np.arange(u+1,int(n/3)):\n",
    "        edge_list_complete_1.append((u,v))\n",
    "        \n",
    "for u in node_list_complete_2:\n",
    "    for v in np.arange(u+1,n):\n",
    "        edge_list_complete_2.append((u,v))\n",
    "\n",
    "for u in node_list_path:\n",
    "    edge_list_path.append((u,u+1))\n",
    "\n",
    "# G.remove_edges_from([(3,0),(5,7),(0,7),(3,5)])\n",
    "\n",
    "## add edges\n",
    "B.add_edges_from(edge_list_complete_1)\n",
    "B.add_edges_from(edge_list_complete_2)\n",
    "B.add_edges_from(edge_list_path)\n",
    "\n",
    "\n",
    "## draw graph\n",
    "pos=nx.spring_layout(B) # positions for all nodes\n",
    "\n",
    "### nodes\n",
    "nx.draw_networkx_nodes(B,pos,\n",
    "                       nodelist=list(node_list_complete_1),\n",
    "                       node_color='c',\n",
    "                       node_size=400,\n",
    "                       alpha=0.8)\n",
    "nx.draw_networkx_nodes(B,pos,\n",
    "                       nodelist=list(node_list_path),\n",
    "                       node_color='g',\n",
    "                       node_size=200,\n",
    "                       alpha=0.8)\n",
    "nx.draw_networkx_nodes(B,pos,\n",
    "                       nodelist=list(node_list_complete_2),\n",
    "                       node_color='b',\n",
    "                       node_size=400,\n",
    "                       alpha=0.8)\n",
    "\n",
    "\n",
    "### edges\n",
    "nx.draw_networkx_edges(B,pos,\n",
    "                       edgelist=edge_list_complete_1,\n",
    "                       width=2,alpha=0.5,edge_color='c')\n",
    "nx.draw_networkx_edges(B,pos,\n",
    "                       edgelist=edge_list_path,\n",
    "                       width=3,alpha=0.5,edge_color='g')\n",
    "nx.draw_networkx_edges(B,pos,\n",
    "                       edgelist=edge_list_complete_2,\n",
    "                       width=2,alpha=0.5,edge_color='b')\n",
    "\n",
    "\n",
    "plt.axis('off')\n",
    "plt.show() # display"
   ]
  },
  {
   "cell_type": "markdown",
   "metadata": {},
   "source": [
    "&#9989;  **<font color=red>Do this</font>:** Generate the lazy random walk matrix, $W$, for the above graph."
   ]
  },
  {
   "cell_type": "code",
   "execution_count": null,
   "metadata": {},
   "outputs": [],
   "source": [
    "#Put your answer to the above question here.\n",
    "A = nx.adjacency_matrix(B)\n",
    "A = A.todense()\n",
    "\n",
    "d = np.sum(A,0) # Make a vector of the sums.\n",
    "D = np.diag(np.asarray(d)[0])\n"
   ]
  },
  {
   "cell_type": "code",
   "execution_count": null,
   "metadata": {},
   "outputs": [],
   "source": [
    "##ANSWER##\n",
    "A = nx.adjacency_matrix(B)\n",
    "A = A.todense()\n",
    "\n",
    "d = np.sum(A,0) # Make a vector of the sums.\n",
    "D = np.diag(np.asarray(d)[0])\n",
    "\n",
    "W = 0.5*(np.matrix(np.eye(n)) + np.matrix(A)*np.matrix(D)**(-1))\n",
    "##ANSWER##"
   ]
  },
  {
   "cell_type": "code",
   "execution_count": null,
   "metadata": {
    "nbgrader": {
     "grade": true,
     "grade_id": "cell-fb79da016761443e",
     "locked": true,
     "points": 5,
     "schema_version": 3,
     "solution": false,
     "task": false
    }
   },
   "outputs": [],
   "source": [
    "checkanswer.matrix(W, \"8ba624169e3a2ab216081049e1429eae\")"
   ]
  },
  {
   "cell_type": "markdown",
   "metadata": {},
   "source": [
    "&#9989;  **<font color=red>Do this</font>:** Compute the eigenvalues and eigenvectors of $W$. Make a diagonal matrix $A$ with the eigenvalues on the diagonal. Name the matrix of eigenvectors $V$ (each column is an eigenvector). (**Note**: We now have that $W=VAV^{-1}=VAV^{T}$ since $V$ is unitary.)"
   ]
  },
  {
   "cell_type": "code",
   "execution_count": null,
   "metadata": {},
   "outputs": [],
   "source": [
    "#Put your answer to the above question here. "
   ]
  },
  {
   "cell_type": "code",
   "execution_count": null,
   "metadata": {},
   "outputs": [],
   "source": [
    "##ANSWER##\n",
    "lam, vecs =  np.linalg.eig(W)\n",
    "\n",
    "A = np.diag(lam)\n",
    "V = vecs\n",
    "\n",
    "\n",
    "np.allclose(V*A*V**(-1),W)\n",
    "##ANWER##"
   ]
  },
  {
   "cell_type": "code",
   "execution_count": null,
   "metadata": {
    "nbgrader": {
     "grade": true,
     "grade_id": "cell-10f3b45c444ad7e4",
     "locked": true,
     "points": 5,
     "schema_version": 3,
     "solution": false,
     "task": false
    }
   },
   "outputs": [],
   "source": [
    "checkanswer.matrix(A, 'e82af1c40ba1e7bb14594e41aa3d0752')"
   ]
  },
  {
   "cell_type": "code",
   "execution_count": null,
   "metadata": {},
   "outputs": [],
   "source": [
    "V[V==-0]"
   ]
  },
  {
   "cell_type": "code",
   "execution_count": null,
   "metadata": {
    "nbgrader": {
     "grade": true,
     "grade_id": "cell-2f59a9e06170dac5",
     "locked": true,
     "points": 5,
     "schema_version": 3,
     "solution": false,
     "task": false
    }
   },
   "outputs": [],
   "source": [
    "checkanswer.matrix(V, '9ae51df03acd5a0fa71ee791c0964812')"
   ]
  },
  {
   "cell_type": "markdown",
   "metadata": {},
   "source": [
    "&#9989;  **<font color=red>Do this</font>:** Let your $p_{0}=[1,0,0,\\ldots,0]$. Compute $p_{t}$ for $t=1,2,\\ldots,100$, and plot $||v_{1}-p_{t}||_{1}$ versus $t$, where $v_{1}$ is the eigenvector associated with the largest eigenvalue $\\lambda_{1}=1$ and whose sum equals 1. (**Note**: $||\\cdot||_{1}$ may be computed using ```np.linalg.norm(v_1-p_t, 1)```.)"
   ]
  },
  {
   "cell_type": "code",
   "execution_count": null,
   "metadata": {
    "nbgrader": {
     "grade": true,
     "grade_id": "cell-9e691ac811c35e4d",
     "locked": false,
     "points": 5,
     "schema_version": 3,
     "solution": true,
     "task": false
    }
   },
   "outputs": [],
   "source": [
    "#Put your answer to the above question here. "
   ]
  },
  {
   "cell_type": "code",
   "execution_count": null,
   "metadata": {},
   "outputs": [],
   "source": [
    "##ANSWER##\n",
    "p0 = np.zeros([60,1])\n",
    "p0[0] = 1\n",
    "p0 = np.matrix(p0)\n",
    "\n",
    "v1 = V[:,0]\n",
    "v1 = v1/sum(v1)  #  normalize the eigenvector such that is sums one\n",
    "\n",
    "err = np.zeros(10000)\n",
    "p = p0\n",
    "for i in range(0,10000):\n",
    "    p = W*p\n",
    "    err[i] = np.linalg.norm(v1-p, 1)\n",
    "\n",
    "plt.semilogy(err)\n",
    "##ANSWER##"
   ]
  },
  {
   "cell_type": "markdown",
   "metadata": {},
   "source": [
    "#### Compare to Complete Graph\n",
    "\n",
    "If you complete the above, do the same for a complete graph on the same number of nodes.\n",
    "\n",
    "&#9989;  **<font color=red>Question</font>:** What do you notice about the graph that is different from that above?"
   ]
  },
  {
   "cell_type": "markdown",
   "metadata": {
    "nbgrader": {
     "grade": true,
     "grade_id": "cell-9cadbdd3014757bc",
     "locked": false,
     "points": 5,
     "schema_version": 3,
     "solution": true,
     "task": false
    }
   },
   "source": [
    "Put your answer to the above question here."
   ]
  },
  {
   "cell_type": "markdown",
   "metadata": {},
   "source": [
    "---------\n",
    "### Congratulations, we're done!\n",
    "\n",
    "Now, you just need to submit this assignment by uploading it to the course <a href=\"https://d2l.msu.edu/\">Desire2Learn</a> web page for today's dropbox (Don't forget to add your names in the first cell).\n"
   ]
  },
  {
   "cell_type": "markdown",
   "metadata": {},
   "source": [
    "### Course Resources:\n",
    "\n",
    "- [Syllabus](###SYLLABUS###)\n",
    "- [Preliminary Schedule](###SCHEDULE###)\n",
    "- [Course D2L Page](###D2L###)"
   ]
  },
  {
   "cell_type": "code",
   "execution_count": null,
   "metadata": {
    "scrolled": true
   },
   "outputs": [],
   "source": [
    "##ANSWER## \n",
    "#this cell gets the name of the current notebook.\n",
    "from jupyterinstruct import makestudent \n",
    "makestudent.getname()\n",
    "\n",
    "import thiscourse\n",
    "tags = thiscourse.tags()\n",
    "tags['YEAR'] = '2020'\n",
    "##ANSWER## "
   ]
  },
  {
   "cell_type": "code",
   "execution_count": null,
   "metadata": {
    "scrolled": true
   },
   "outputs": [],
   "source": [
    "##ANSWER## \n",
    "#This cell runs the converter which removes ANSWER feilds, renames the notebook and cleans out output fields. \n",
    "makestudent.merge(this_notebook, \"./\"+tags['COURSE_CODE']+\"/\", tags)\n",
    "##ANSWER## "
   ]
  },
  {
   "cell_type": "code",
   "execution_count": null,
   "metadata": {},
   "outputs": [],
   "source": [
    "##ANSWER##\n",
    "#This cell runs the nbgrader command which copies the files to a module sorce directory and then generates a release code\n",
    "makestudent.usenbgrader(this_notebook, f\"./{tags['COURSE_CODE']}/\", tags)\n",
    "##ANSWER##"
   ]
  },
  {
   "cell_type": "markdown",
   "metadata": {},
   "source": [
    "&#169; Copyright ###YEAR###,  Michigan State University Board of Trustees"
   ]
  }
 ],
 "metadata": {
  "celltoolbar": "Create Assignment",
  "kernelspec": {
   "display_name": "Python 3",
   "language": "python",
   "name": "python3"
  },
  "language_info": {
   "codemirror_mode": {
    "name": "ipython",
    "version": 3
   },
   "file_extension": ".py",
   "mimetype": "text/x-python",
   "name": "python",
   "nbconvert_exporter": "python",
   "pygments_lexer": "ipython3",
   "version": "3.7.3"
  }
 },
 "nbformat": 4,
 "nbformat_minor": 1
}
